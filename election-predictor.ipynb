{
 "cells": [
  {
   "cell_type": "markdown",
   "metadata": {},
   "source": [
    "# Election Predictor\n",
    "\n",
    "Predict Presidential Election - odds per state taken from predict-it:  \n",
    "https://www.predictit.org/\n",
    "\n",
    "This model simulaties only, if the election were held today, what are the odds that a democrat wins the Electorial College.  It doesn't take into account uncertainties due to time.\n",
    "\n",
    "Algorithm:\n",
    "For each state, use the number of electors for that state and the current odds (per predict-it) to decided if the democratic candidate wins those votes.  Run a simulation of 1000 elections and get the mean.  Do this 100 times and compute the mean, standard deviation and other statistics."
   ]
  },
  {
   "cell_type": "code",
   "execution_count": 1,
   "metadata": {
    "ExecuteTime": {
     "end_time": "2019-08-05T19:30:28.821735Z",
     "start_time": "2019-08-05T19:30:28.795344Z"
    }
   },
   "outputs": [
    {
     "data": {
      "application/javascript": [
       "IPython.OutputArea.prototype._should_scroll = function(lines) {\n",
       "    return false;\n",
       "}\n"
      ],
      "text/plain": [
       "<IPython.core.display.Javascript object>"
      ]
     },
     "metadata": {},
     "output_type": "display_data"
    }
   ],
   "source": [
    "%%javascript\n",
    "IPython.OutputArea.prototype._should_scroll = function(lines) {\n",
    "    return false;\n",
    "}"
   ]
  },
  {
   "cell_type": "code",
   "execution_count": 2,
   "metadata": {
    "ExecuteTime": {
     "end_time": "2019-08-05T19:30:29.630182Z",
     "start_time": "2019-08-05T19:30:28.824991Z"
    }
   },
   "outputs": [],
   "source": [
    "# imports\n",
    "import pandas as pd\n",
    "import matplotlib.pyplot as plt\n",
    "from datetime import datetime\n",
    "import random\n",
    "import numpy\n",
    "import qgrid\n",
    "import ipywidgets as widgets\n",
    "from shutil import copyfile\n",
    "\n",
    "# format price data\n",
    "pd.options.display.float_format = '{:0.2f}'.format\n",
    "\n",
    "%matplotlib inline"
   ]
  },
  {
   "cell_type": "code",
   "execution_count": 3,
   "metadata": {
    "ExecuteTime": {
     "end_time": "2019-08-05T19:30:29.646391Z",
     "start_time": "2019-08-05T19:30:29.636429Z"
    }
   },
   "outputs": [],
   "source": [
    "# set size of inline plots\n",
    "'''note: rcParams can't be in same cell as import matplotlib\n",
    "   or %matplotlib inline\n",
    "   \n",
    "   %matplotlib notebook: will lead to interactive plots embedded within\n",
    "   the notebook, you can zoom and resize the figure\n",
    "   \n",
    "   %matplotlib inline: only draw static images in the notebook\n",
    "'''\n",
    "plt.rcParams[\"figure.figsize\"] = (10, 7)"
   ]
  },
  {
   "cell_type": "code",
   "execution_count": 4,
   "metadata": {},
   "outputs": [
    {
     "data": {
      "application/vnd.jupyter.widget-view+json": {
       "model_id": "87c8100c6539423898af1a49b668ad52",
       "version_major": 2,
       "version_minor": 0
      },
      "text/plain": [
       "QgridWidget(grid_options={'fullWidthRows': True, 'syncColumnCellResize': True, 'forceFitColumns': True, 'defau…"
      ]
     },
     "metadata": {},
     "output_type": "display_data"
    }
   ],
   "source": [
    "filename = 'electorial-votes-by-state-2020.csv'\n",
    "df_orig = pd.read_csv('electorial-votes-by-state-2020.csv')\n",
    "qgrid_widget = qgrid.show_grid(df_orig, show_toolbar=True)\n",
    "qgrid_widget"
   ]
  },
  {
   "cell_type": "code",
   "execution_count": 5,
   "metadata": {},
   "outputs": [
    {
     "data": {
      "application/vnd.jupyter.widget-view+json": {
       "model_id": "254079e2efa94fe0a4b95c063fca7045",
       "version_major": 2,
       "version_minor": 0
      },
      "text/plain": [
       "VBox(children=(Button(description='SAVE', style=ButtonStyle()), Output()))"
      ]
     },
     "metadata": {},
     "output_type": "display_data"
    }
   ],
   "source": [
    "# update df_orig with user changes\n",
    "df_orig = qgrid_widget.get_changed_df()\n",
    "df_orig\n",
    "\n",
    "# creates a button that allows us to save our changes\n",
    "button = widgets.Button(description='SAVE')\n",
    "out = widgets.Output()\n",
    "def on_button_clicked(_):\n",
    "    # backup current file\n",
    "    timestamp = datetime.now().strftime(\"%Y-%m-%d-%H-%M-%S\")\n",
    "    backup = filename + '-' + timestamp\n",
    "    copyfile(filename, backup)\n",
    "    \n",
    "    # save changes\n",
    "    df_orig.to_csv(filename)\n",
    "    print('Saved changes to \"{}\"'.format(filename))\n",
    "    \n",
    "# linking button and function together using a button's method\n",
    "button.on_click(on_button_clicked)\n",
    "# displaying button and its output together\n",
    "widgets.VBox([button,out])"
   ]
  },
  {
   "cell_type": "code",
   "execution_count": 6,
   "metadata": {},
   "outputs": [],
   "source": [
    "# update dataframe with user changes\n",
    "df_orig = qgrid_widget.get_changed_df()"
   ]
  },
  {
   "cell_type": "code",
   "execution_count": 7,
   "metadata": {},
   "outputs": [
    {
     "data": {
      "text/plain": [
       "322.37000000000006"
      ]
     },
     "execution_count": 7,
     "metadata": {},
     "output_type": "execute_result"
    }
   ],
   "source": [
    "# the expected value of the electoral vote for the dem is ElectVotes * DWinOdds\n",
    "df_orig['votes'] = df_orig['ElectVotes'] * df_orig['DWinOdds'] /100\n",
    "sum(df_orig['votes'])"
   ]
  },
  {
   "cell_type": "code",
   "execution_count": 8,
   "metadata": {},
   "outputs": [],
   "source": [
    "# Add DWin column\n",
    "def DWin(row, threshold=0):\n",
    "    result = 0\n",
    "    if row.DWinOdds <= threshold:\n",
    "        result = 0\n",
    "    elif row.DWinOdds >= 100-threshold:\n",
    "        result = 1\n",
    "    else:\n",
    "        result = random.choices([1, 0], [row.DWinOdds, 100-row.DWinOdds])[0]\n",
    "    return result"
   ]
  },
  {
   "cell_type": "markdown",
   "metadata": {},
   "source": [
    "Add DVotesWon Column"
   ]
  },
  {
   "cell_type": "code",
   "execution_count": 9,
   "metadata": {},
   "outputs": [],
   "source": [
    "# Add DVotesWon Column\n",
    "def DVotesWon(row):\n",
    "    return row.ElectVotes * row.DWin"
   ]
  },
  {
   "cell_type": "code",
   "execution_count": 10,
   "metadata": {},
   "outputs": [],
   "source": [
    "def sim(threshold=0):\n",
    "    N = 10\n",
    "\n",
    "    for i in range(N):\n",
    "        votes = []\n",
    "        df = df_orig\n",
    "        df['DWin'] = df_orig.apply(DWin, threshold=threshold, axis=1)\n",
    "        df['DVotesWon'] = df.apply(DVotesWon, axis=1)\n",
    "        votes.append(sum(df.DVotesWon))\n",
    "    return votes"
   ]
  },
  {
   "cell_type": "code",
   "execution_count": 11,
   "metadata": {},
   "outputs": [
    {
     "name": "stdout",
     "output_type": "stream",
     "text": [
      "........................................................................................................................................................................................................................................................................................................................................................................................................................................................................................................................................................................................................................................................................................................................................................................................................................................................................................................................................................................................................................................\n"
     ]
    }
   ],
   "source": [
    "# run the simulation 100 times\n",
    "N = 1000\n",
    "threshold = 0\n",
    "votes = []\n",
    "\n",
    "for i in range(N):\n",
    "    print('.', end='')\n",
    "    s = sim(threshold)\n",
    "    mean = numpy.mean(s)\n",
    "    votes.append(mean)\n",
    "print()"
   ]
  },
  {
   "cell_type": "code",
   "execution_count": 12,
   "metadata": {},
   "outputs": [
    {
     "name": "stdout",
     "output_type": "stream",
     "text": [
      "odds of dem win = 92.7\n",
      "vote odds:\n",
      "  250: 97.7\n",
      "  275: 90.7\n",
      "  300: 74.2\n",
      "  325: 47.3\n",
      "  350: 21.4\n",
      "  375: 7.9\n",
      "  400: 1.6\n",
      "mean = 322.1\n",
      "variance = 1315.6\n",
      "standard deviation = 3.63e+01\n"
     ]
    }
   ],
   "source": [
    "# percent of dem wins\n",
    "votes_270 = [vote for vote in votes if vote >=270]\n",
    "pct = len(votes_270) / N * 100\n",
    "print('odds of dem win = {:0.1f}'.format(pct))\n",
    "\n",
    "print('vote odds:')\n",
    "for i in range(250, 425, 25):\n",
    "    votes_i = [vote for vote in votes if vote >=i]\n",
    "    pct = len(votes_i) / N * 100\n",
    "    print('  {}: {:0.1f}'.format(i, pct))\n",
    "\n",
    "# compute mean, variance, and standard deviation\n",
    "mean = numpy.mean(votes)\n",
    "var = numpy.var(votes)\n",
    "std = numpy.std(votes)\n",
    "print('mean = {:0.1f}'.format(mean))\n",
    "print('variance = {:0.1f}'.format(var))\n",
    "print('standard deviation = {:.2e}'.format(std))"
   ]
  },
  {
   "cell_type": "code",
   "execution_count": 13,
   "metadata": {},
   "outputs": [
    {
     "data": {
      "image/png": "[encoded data removed]",
      "text/plain": [
       "<Figure size 720x504 with 1 Axes>"
      ]
     },
     "metadata": {
      "needs_background": "light"
     },
     "output_type": "display_data"
    }
   ],
   "source": [
    "# plot the histogram\n",
    "plt.hist(votes, density=True, bins=20)\n",
    "plt.ylabel('Standard Normal - Democratic Electorial Votes');"
   ]
  },
  {
   "cell_type": "code",
   "execution_count": null,
   "metadata": {},
   "outputs": [],
   "source": []
  }
 ],
 "metadata": {
  "kernelspec": {
   "display_name": "Python 3",
   "language": "python",
   "name": "python3"
  },
  "language_info": {
   "codemirror_mode": {
    "name": "ipython",
    "version": 3
   },
   "file_extension": ".py",
   "mimetype": "text/x-python",
   "name": "python",
   "nbconvert_exporter": "python",
   "pygments_lexer": "ipython3",
   "version": "3.8.5"
  },
  "latex_envs": {
   "LaTeX_envs_menu_present": true,
   "autoclose": false,
   "autocomplete": true,
   "bibliofile": "biblio.bib",
   "cite_by": "apalike",
   "current_citInitial": 1,
   "eqLabelWithNumbers": true,
   "eqNumInitial": 1,
   "hotkeys": {
    "equation": "Ctrl-E",
    "itemize": "Ctrl-I"
   },
   "labels_anchors": false,
   "latex_user_defs": false,
   "report_style_numbering": false,
   "user_envs_cfg": false
  }
 },
 "nbformat": 4,
 "nbformat_minor": 1
}
